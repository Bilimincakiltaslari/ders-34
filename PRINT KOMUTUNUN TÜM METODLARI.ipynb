{
 "cells": [
  {
   "cell_type": "code",
   "execution_count": null,
   "metadata": {},
   "outputs": [],
   "source": [
    "kaynak=\"abcçdefgğhıijklmnoöprsştuüvyz\"\n",
    "hedef =\"çdefgğhıijklmnoöprsştuüvyzabc\"\n",
    "tablom=str.maketrans(kaynak,hedef)\n",
    "metin=\"yğiğjğk mjcjğ\"\n",
    "print(metin.translate(tablom))"
   ]
  },
  {
   "cell_type": "code",
   "execution_count": null,
   "metadata": {},
   "outputs": [],
   "source": [
    "kaynak=\"abcçdefgğhıijklmnoöprsştuüvyz\"\n",
    "hedef =\"çdefgğhıijklmnoöprsştuüvyzabc\"\n",
    "metin1 =input(\"şifreliyeceğiniz cümlenizi giriniz\")\n",
    "tablom=str.maketrans(kaynak,hedef)\n",
    "sifreli=metin1.translate(tablom)\n",
    "print(\"Cümlenin şifrelenmiş hali\")\n",
    "print(sifreli)"
   ]
  },
  {
   "cell_type": "code",
   "execution_count": null,
   "metadata": {},
   "outputs": [],
   "source": [
    "kaynak=\"abcçdefgğhıijklmnoöprsştuüvyz\"\n",
    "hedef =\"çdefgğhıijklmnoöprsştuüvyzabc\"\n",
    "metin2 =input(\"şifresi çözülecek cümlenizi giriniz\")\n",
    "tablom=str.maketrans(hedef,kaynak)\n",
    "sifresiz=metin2.translate(tablom)\n",
    "print(\"Cümlenin orjinal hali\")\n",
    "print(sifresiz)"
   ]
  },
  {
   "cell_type": "code",
   "execution_count": null,
   "metadata": {},
   "outputs": [],
   "source": [
    "metin =\"bilimin çakıl taşları\"  # capitalize() cümlenin ilk harfini büyük harf yapar.\n",
    "print(metin.capitalize())"
   ]
  },
  {
   "cell_type": "code",
   "execution_count": null,
   "metadata": {},
   "outputs": [],
   "source": [
    "metin =\"bilimin çakıl taşları\"  # title() cümlenin tüm kelimelerinin ilk harfini büyük harf yapar.\n",
    "print(metin.title())"
   ]
  },
  {
   "cell_type": "code",
   "execution_count": null,
   "metadata": {},
   "outputs": [],
   "source": [
    "metin =\"bilimin çakıl taşları\"  # upper() cümlenin tüm harflerini büyük harf yapar.\n",
    "print(metin.upper())"
   ]
  },
  {
   "cell_type": "code",
   "execution_count": null,
   "metadata": {},
   "outputs": [],
   "source": [
    "metin =\"bilimin çakıl taşları\"  # upper() cümlenin tüm harflerini büyük harf yapar.\n",
    "print(metin.lower())"
   ]
  },
  {
   "cell_type": "code",
   "execution_count": null,
   "metadata": {},
   "outputs": [],
   "source": [
    "metin =\"bilimin çakıl taşları\" # count(\"\") tırnak içindeki karekterin cümle içinde kaç\n",
    "print(metin.count(\"i\"))        # tane olduğunu bulur."
   ]
  },
  {
   "cell_type": "code",
   "execution_count": null,
   "metadata": {},
   "outputs": [],
   "source": [
    "metin1 =\"bilimin çakıl taşları\" # swapcase() küçük harfleri BÜYÜK, BÜYÜK harfleri küçük harfe çevirir.\n",
    "print(metin1.swapcase())\n",
    "metin2 =\"PYTHON PROGRAMLAMA DERSİNE HOŞ GELDİNİZ\"\n",
    "print(metin2.swapcase())"
   ]
  },
  {
   "cell_type": "code",
   "execution_count": null,
   "metadata": {},
   "outputs": [],
   "source": [
    "metin =\"bilimin çakıl taşları\"   # center(sayı) yazılan sayı kadar metnin ortasından sol ve sağda\n",
    "print(10*\"*\",metin.center(48),10*\"*\") # boşluk ile doldurur. Eğer sadece sağında veya solunda boşluk \n",
    "                                    # bırakmak istiyorsanız; rjust ve ljust metotlarına bakabilirsiniz."
   ]
  },
  {
   "cell_type": "code",
   "execution_count": null,
   "metadata": {},
   "outputs": [],
   "source": [
    "metin =\"bilimin çakıl taşları\" # cümle zfill(karakter sayısı) 'da belirttiğimiz karakter sayısından  \n",
    "print(metin.zfill(26))         # ne kadar az ise başına o kadar sıfır ekler"
   ]
  },
  {
   "cell_type": "code",
   "execution_count": null,
   "metadata": {},
   "outputs": [],
   "source": [
    "metin =\"bilimin çakıl taşları\" # replace(\"bir\",\"iki\") cümledeki birinci metini ikinci metne dönüştürür.\n",
    "print(metin.replace(\"i\",\"a\"))"
   ]
  },
  {
   "cell_type": "code",
   "execution_count": null,
   "metadata": {},
   "outputs": [],
   "source": [
    "metin =\"bilimin çakıl taşları\"\n",
    "print(metin.replace(\"i\",\"x\"))\n",
    "print(metin.upper())\n",
    "print(metin)"
   ]
  },
  {
   "cell_type": "code",
   "execution_count": null,
   "metadata": {},
   "outputs": [],
   "source": [
    "metin =\"bilimin çakıl taşları\" # Bu metot karakter dizinin belirlediğimiz karakter ile \n",
    "print(metin.startswith(\"bil\"))  # başlayıp başlamadığını sorguluyor ve buna göre bize \n",
    "                              # True veya False değerler veriyor."
   ]
  },
  {
   "cell_type": "code",
   "execution_count": null,
   "metadata": {},
   "outputs": [],
   "source": [
    "metin =\"bilimin çakıl taşları\" # Startswith metodunun aksine istenilen karakter veya \n",
    "print(metin.endswith(\"ları\")) # karakterler ile bitip bitmediğini kontrol ediyor."
   ]
  },
  {
   "cell_type": "code",
   "execution_count": null,
   "metadata": {},
   "outputs": [],
   "source": [
    "metin =\"biliminçakıltaşları\" # bir karakter dizisinin alfabetik olup olmadığını kontrol ediyor.\n",
    "print(metin.isalpha()) #tamamen harflerden oluşuyorsa True, boşluk veya rakam sembolden oluşuyorsa\n",
    "                       # False değeri verir."
   ]
  },
  {
   "cell_type": "code",
   "execution_count": null,
   "metadata": {},
   "outputs": [],
   "source": [
    "metin =\"8123456\" # bir karakter dizisinin sayısal olup olmadığını kontrol ediyor.\n",
    "print(metin.isdigit())  # tamamen rakamlardan oluşuyorsa True, boşluk, harf veya sembolden oluşuyorsa\n",
    "                        # False değeri verir."
   ]
  },
  {
   "cell_type": "code",
   "execution_count": null,
   "metadata": {},
   "outputs": [],
   "source": [
    "metin =\"biliminçakıltaşları\" # Bu metot karakterin karakter dizisi  içinde kaçıncı indekste \n",
    "print(metin.find(\"a\"))  # olduğunu bulan metottur. Eğer aranılan karakter, Karakter dizisi \n",
    "                        # içinde yoksa geriye -1 değeri döndürür."
   ]
  },
  {
   "cell_type": "code",
   "execution_count": null,
   "metadata": {},
   "outputs": [],
   "source": [
    "metin =\"biliminçakıltaşları\" # Eğer biz istediğimiz  aralıkta arama yapmasını \n",
    "print(metin.find(\"a\",9,14))  # belirtirsek o zamano aralıkta karakteri arar."
   ]
  },
  {
   "cell_type": "code",
   "execution_count": null,
   "metadata": {},
   "outputs": [],
   "source": [
    "metin =\"biliminçakıltaşları\"  # Bu metot find metodu ile aynı işlevi yapar ama \n",
    "print(metin.rfind(\"a\"))       # find metodunun tersine sağdan sola doğru okur."
   ]
  },
  {
   "cell_type": "code",
   "execution_count": null,
   "metadata": {},
   "outputs": [],
   "source": [
    "metin =\"bilimin çakıl taşları\"\n",
    "print(\"-\".join(metin))"
   ]
  },
  {
   "cell_type": "code",
   "execution_count": null,
   "metadata": {},
   "outputs": [],
   "source": [
    "adlar=[\"Dilara\",\"Taha\",\"Alp\",\"Poyraz\",\"Sarp\"]\n",
    "print(adlar)"
   ]
  },
  {
   "cell_type": "code",
   "execution_count": null,
   "metadata": {},
   "outputs": [],
   "source": [
    "adlar=[\"Dilara\",\"Taha\",\"Alp\",\"Poyraz\",\"Sarp\"]\n",
    "print(\", \".join(adlar))"
   ]
  },
  {
   "cell_type": "code",
   "execution_count": null,
   "metadata": {},
   "outputs": [],
   "source": [
    "isimler=\"Kerem,Ömer,Masis,Şeniz,İda\"\n",
    "print(isimler.split(\",\"))"
   ]
  },
  {
   "cell_type": "code",
   "execution_count": null,
   "metadata": {},
   "outputs": [],
   "source": [
    "def kucult(karakter):\n",
    "...     return karakter.lower()\n",
    "... \n",
    ">>> kelimeler = ['KeReM','MASİS','öMEr','','YAPrak','ŞeniZ']\n",
    ">>> list(map(kucult,kelimeler))"
   ]
  },
  {
   "cell_type": "code",
   "execution_count": null,
   "metadata": {},
   "outputs": [],
   "source": []
  },
  {
   "cell_type": "code",
   "execution_count": null,
   "metadata": {},
   "outputs": [],
   "source": []
  }
 ],
 "metadata": {
  "kernelspec": {
   "display_name": "Python 3",
   "language": "python",
   "name": "python3"
  },
  "language_info": {
   "codemirror_mode": {
    "name": "ipython",
    "version": 3
   },
   "file_extension": ".py",
   "mimetype": "text/x-python",
   "name": "python",
   "nbconvert_exporter": "python",
   "pygments_lexer": "ipython3",
   "version": "3.7.3"
  }
 },
 "nbformat": 4,
 "nbformat_minor": 2
}
